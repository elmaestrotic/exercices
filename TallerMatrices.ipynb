{
  "nbformat": 4,
  "nbformat_minor": 0,
  "metadata": {
    "colab": {
      "name": "TallerMatrices.ipynb",
      "provenance": [],
      "include_colab_link": true
    },
    "kernelspec": {
      "name": "python3",
      "display_name": "Python 3"
    },
    "language_info": {
      "name": "python"
    }
  },
  "cells": [
    {
      "cell_type": "markdown",
      "metadata": {
        "id": "view-in-github",
        "colab_type": "text"
      },
      "source": [
        "<a href=\"https://colab.research.google.com/github/elmaestrotic/exercices/blob/master/TallerMatrices.ipynb\" target=\"_parent\"><img src=\"https://colab.research.google.com/assets/colab-badge.svg\" alt=\"Open In Colab\"/></a>"
      ]
    },
    {
      "cell_type": "markdown",
      "source": [
        "**INTRODUCCIÓN A LOS CICLOS**\n",
        "\n",
        "A continuación veremos cómo funciona el ciclo Mientras o While:"
      ],
      "metadata": {
        "id": "a49Z-AAlbs1I"
      }
    },
    {
      "cell_type": "markdown",
      "source": [
        ""
      ],
      "metadata": {
        "id": "aleqG8VBAaxI"
      }
    },
    {
      "cell_type": "code",
      "source": [
        "\n",
        "lista=[]\n",
        "i=1\n",
        "while i <=10:\n",
        "  lista.append(i)\n",
        "  i=i+1\n",
        "print(lista)"
      ],
      "metadata": {
        "colab": {
          "base_uri": "https://localhost:8080/"
        },
        "id": "fc88p0pZcFUk",
        "outputId": "175d89e7-a79d-4563-b902-996be91206b7"
      },
      "execution_count": null,
      "outputs": [
        {
          "output_type": "stream",
          "name": "stdout",
          "text": [
            "[1, 2, 3, 4, 5, 6, 7, 8, 9, 10]\n"
          ]
        }
      ]
    },
    {
      "cell_type": "markdown",
      "source": [
        "A continuación movemos el primer número de la lista a la cola:"
      ],
      "metadata": {
        "id": "PRTfXIOOpF1u"
      }
    },
    {
      "cell_type": "code",
      "source": [
        "lista= [1, 2, 3, 4, 5, 6, 7, 8, 9, 10]\n",
        "i=0\n",
        "for i in range(0,1):\n",
        "  lista.insert(-1, lista.pop(0))\n",
        "print(lista)"
      ],
      "metadata": {
        "colab": {
          "base_uri": "https://localhost:8080/"
        },
        "id": "IT_9sX8UpLN8",
        "outputId": "aab39d53-b58e-48a5-e584-3367f9143881"
      },
      "execution_count": null,
      "outputs": [
        {
          "output_type": "stream",
          "name": "stdout",
          "text": [
            "[2, 3, 4, 5, 6, 7, 8, 9, 1, 10]\n"
          ]
        }
      ]
    },
    {
      "cell_type": "markdown",
      "source": [
        "A continuación movemos el siguiente número de la lista a la cola:"
      ],
      "metadata": {
        "id": "rswS8JYBtdyw"
      }
    },
    {
      "cell_type": "markdown",
      "source": [
        "Ejercicio 2\n",
        "Generamos una matriz aleatoria\n"
      ],
      "metadata": {
        "id": "cOlrOC01MivG"
      }
    },
    {
      "cell_type": "code",
      "source": [
        "from random import *\n",
        "filas=10\n",
        "columnas=10\n",
        "\n",
        "matriz=[[randint(10,100) for i in range(filas)] for j in  range(columnas)]\n",
        "#Ahora vamos a recorrer la matriz y buscar los elementos mayor y menor\n",
        "\n",
        "posmayor=''\n",
        "posmenor=''\n",
        "mayor = matriz[0][0]\n",
        "menor = matriz[0][0]\n",
        "for f in range(filas):\n",
        "  for c in range(columnas):\n",
        "    print(matriz[f][c], end='|')\n",
        "    if matriz[f][c] > mayor:\n",
        "       mayor= matriz[f][c]\n",
        "       posmayor=str([f]+[c])\n",
        "\n",
        "    if matriz[f][c] < menor:\n",
        "       menor= matriz[f][c]\n",
        "       posmenor=str([f]+[c])\n",
        "  print()#partimos la salida para que se vea como fila\n",
        "\n",
        "print()\n",
        "print('El mayor es',mayor,\"en la posición: \",posmayor)\n",
        "print('El menor es',menor,\"en la posición: \",posmenor)\n",
        "\n"
      ],
      "metadata": {
        "colab": {
          "base_uri": "https://localhost:8080/"
        },
        "id": "IXlP-GKLMs_Q",
        "outputId": "928c6622-7cb9-4038-b024-dc81ff9ac716"
      },
      "execution_count": null,
      "outputs": [
        {
          "output_type": "stream",
          "name": "stdout",
          "text": [
            "93|70|71|53|72|92|24|95|76|66|\n",
            "46|86|10|87|51|68|39|31|13|85|\n",
            "71|32|39|49|98|84|35|49|88|42|\n",
            "28|18|40|14|30|70|58|53|86|42|\n",
            "50|41|80|35|66|19|48|60|38|77|\n",
            "56|20|60|42|52|34|32|81|54|88|\n",
            "17|94|100|37|43|91|86|20|90|92|\n",
            "93|27|26|91|22|26|87|47|71|68|\n",
            "81|10|37|92|70|89|67|22|65|67|\n",
            "58|11|87|51|44|40|77|41|13|47|\n",
            "\n",
            "El mayor es 100 en la posición:  [6, 2]\n",
            "El menor es 10 en la posición:  [1, 2]\n"
          ]
        }
      ]
    },
    {
      "cell_type": "markdown",
      "source": [
        "Ahora vamos a hallar la sumatoria de cada columna:"
      ],
      "metadata": {
        "id": "LzcCykU1NLQX"
      }
    },
    {
      "cell_type": "code",
      "source": [
        "from random import *\n",
        "filas=10\n",
        "columnas=10\n",
        "\n",
        "matriz=[[randint(10,99) for i in range(filas)] for j in  range(columnas)]\n",
        "\n",
        "#mostramos la matriz generada\n",
        "for c in range(columnas):\n",
        "  for f in range(filas):\n",
        "    print(matriz[f][c], end='|')\n",
        "    \n",
        "  print()#partimos la salida para que se vea como fila\n",
        "\n",
        "print()\n",
        "\n",
        "suma=0\n",
        "#ahora sumamos los valores de cada columna\n",
        "for f in range(columnas):\n",
        "  for c in range(len(matriz)):\n",
        "    suma+=matriz[f][c]#vamos sumando cada celda de la columna actual\n",
        "  print('La suma de la columna',f,'es: ',suma)\n",
        "  suma=0\n",
        "  print()#partimos la salida para que se vea como fila\n",
        "\n"
      ],
      "metadata": {
        "colab": {
          "base_uri": "https://localhost:8080/"
        },
        "id": "TdrdPie5nDU9",
        "outputId": "8f6fa8c5-a27a-43f4-bad4-98754a5f00a0"
      },
      "execution_count": null,
      "outputs": [
        {
          "output_type": "stream",
          "name": "stdout",
          "text": [
            "88|18|40|84|44|80|19|67|45|96|\n",
            "65|29|31|78|56|27|72|94|10|53|\n",
            "69|14|86|34|34|74|95|71|64|46|\n",
            "63|69|32|92|18|29|76|13|94|72|\n",
            "54|78|45|25|16|13|44|57|14|33|\n",
            "61|60|92|36|50|69|25|19|99|22|\n",
            "23|84|63|51|55|34|53|65|74|70|\n",
            "79|28|27|54|29|40|93|69|46|91|\n",
            "37|84|37|21|36|94|48|63|51|64|\n",
            "12|92|43|84|43|84|35|29|49|59|\n",
            "\n",
            "La suma de la columna 0 es:  551\n",
            "\n",
            "La suma de la columna 1 es:  556\n",
            "\n",
            "La suma de la columna 2 es:  496\n",
            "\n",
            "La suma de la columna 3 es:  559\n",
            "\n",
            "La suma de la columna 4 es:  381\n",
            "\n",
            "La suma de la columna 5 es:  544\n",
            "\n",
            "La suma de la columna 6 es:  560\n",
            "\n",
            "La suma de la columna 7 es:  547\n",
            "\n",
            "La suma de la columna 8 es:  546\n",
            "\n",
            "La suma de la columna 9 es:  606\n",
            "\n"
          ]
        }
      ]
    },
    {
      "cell_type": "markdown",
      "source": [
        "Vamos con el tercer ejercicio matriz de 10 x 10 y mostrar cuántos y cuales son primos:"
      ],
      "metadata": {
        "id": "aLbvSBQyw1i1"
      }
    },
    {
      "cell_type": "code",
      "source": [
        "from random import *\n",
        "def isPrime(valor):\n",
        "    for i in range(2,valor):\n",
        "        if (valor % i ==0):\n",
        "            return 0\n",
        "            break\n",
        "    return valor\n",
        "\n",
        "\n",
        "filas=10\n",
        "columnas=10\n",
        "\n",
        "matriz=[[randint(10,99) for i in range(filas)] for j in  range(columnas)]\n",
        "\n",
        "#mostramos la matriz generada\n",
        "primo=-1\n",
        "lista=[]\n",
        "for c in range(columnas):\n",
        "  for f in range(filas):\n",
        "    print(matriz[f][c], end='|')\n",
        "    primo=isPrime(matriz[f][c])    \n",
        "    if primo != 0:\n",
        "      lista.append(primo)\n",
        "  print()#partimos la salida para que se vea como fila\n",
        "print()\n",
        "print('los primos son: ')\n",
        "print(lista)\n",
        "print('Total primos: ', len(lista))"
      ],
      "metadata": {
        "id": "-jtPq2RJxADJ",
        "outputId": "971dfbe0-8b5a-4e6e-ac30-fc055b762f06",
        "colab": {
          "base_uri": "https://localhost:8080/"
        }
      },
      "execution_count": null,
      "outputs": [
        {
          "output_type": "stream",
          "name": "stdout",
          "text": [
            "37|71|75|94|48|38|22|75|67|66|\n",
            "27|39|14|56|19|24|17|23|31|42|\n",
            "21|24|17|81|69|18|56|88|10|48|\n",
            "11|59|19|62|64|95|24|90|63|75|\n",
            "87|33|18|58|63|35|60|49|60|61|\n",
            "50|75|80|28|67|21|45|34|79|29|\n",
            "91|74|85|76|50|46|36|75|98|72|\n",
            "11|41|14|81|82|72|42|59|21|21|\n",
            "27|84|65|43|75|13|87|30|45|55|\n",
            "52|25|77|61|39|24|82|23|87|25|\n",
            "\n",
            "los primos son: \n",
            "[37, 71, 67, 19, 17, 23, 31, 17, 11, 59, 19, 61, 67, 79, 29, 11, 41, 59, 43, 13, 61, 23]\n",
            "Total primos:  22\n"
          ]
        }
      ]
    },
    {
      "cell_type": "markdown",
      "source": [
        "Matriz y mostrar fibos "
      ],
      "metadata": {
        "id": "28mxIYp3AfIA"
      }
    },
    {
      "cell_type": "code",
      "source": [
        "from random import *\n",
        "import math\n",
        "\n",
        "def fibonacci_formula(n) -> int:\n",
        "    \"\"\"\n",
        "        Función que calcula el número de Fibonacci de un número dado\n",
        "        n = número dado\n",
        "    \"\"\"\n",
        "    if n < 2:\n",
        "        return n\n",
        "    return int(((1+math.sqrt(5))**n-(1-math.sqrt(5))**n)/(2**n*math.sqrt(5)))\n",
        "\n",
        "\n",
        "\n",
        "def matrix_of_fibonacci():\n",
        "    \"\"\"\n",
        "        Generar una matriz de 10 x10 de números enteros aleatorios y mostrar cuántos y cuáles \n",
        "        de ellos números, es decir de los números almacenados en la matriz pertenecen a los \n",
        "        100 primeros números de la serie Fibonacci.\n",
        "    \"\"\"\n",
        "    print(\" Números en la serie de Fibonacci\")\n",
        "    fib = [fibonacci_formula(i) for i in range(100)]\n",
        "\n",
        "    matrix = generate_matrix(10)\n",
        "\n",
        "    print(f\"Serie de Fibonacci: {fib}\")\n",
        "\n",
        "    print_matrix(matrix)\n",
        "\n",
        "    print(\n",
        "        f\"Números de la matriz que pertenecen a la serie de Fibonacci: {repeat(fib, matrix_to_list(matrix))}\"\n",
        "    )\n",
        "\n",
        "\n",
        "\n",
        "\n",
        "#generamos los fibos de 1 a 100 y los almacenamos en una lista\n",
        "lista=[]\n",
        "matrix_of_fibonacci()\n",
        "lista.append(fibonacci_formula(100))\n",
        "fibos=[]\n",
        "\n",
        "\n",
        "\n",
        "\n",
        "\n",
        "\n",
        "#generamos la matriz\n",
        "filas=10\n",
        "columnas=10\n",
        "\n",
        "matriz=[[randint(10,99) for i in range(filas)] for j in  range(columnas)]\n",
        "\n",
        "#mostramos la matriz generada\n",
        "primo=-1\n",
        "lista=[]\n",
        "for c in range(columnas):\n",
        "  for f in range(filas):\n",
        "    print(matriz[f][c], end='|')\n",
        "    if (matriz[f][c]) in lista:\n",
        "        fibos.append(matriz[f][c])\n",
        "  print()#partimos la salida para que se vea como fila\n",
        "print()\n",
        "print('los fibos son: ')\n",
        "print(fibos)\n",
        "print('Total primos: ', len(fibos))\n"
      ],
      "metadata": {
        "colab": {
          "base_uri": "https://localhost:8080/",
          "height": 373
        },
        "id": "g9Q2v6LtAi9A",
        "outputId": "2aca9b0e-c27e-4bcc-bf46-88537afa167f"
      },
      "execution_count": 7,
      "outputs": [
        {
          "output_type": "stream",
          "name": "stdout",
          "text": [
            " Números en la serie de Fibonacci\n"
          ]
        },
        {
          "output_type": "error",
          "ename": "NameError",
          "evalue": "ignored",
          "traceback": [
            "\u001b[0;31m---------------------------------------------------------------------------\u001b[0m",
            "\u001b[0;31mNameError\u001b[0m                                 Traceback (most recent call last)",
            "\u001b[0;32m<ipython-input-7-b6bc6f1cc219>\u001b[0m in \u001b[0;36m<module>\u001b[0;34m()\u001b[0m\n\u001b[1;32m     37\u001b[0m \u001b[0;31m#generamos los fibos de 1 a 100 y los almacenamos en una lista\u001b[0m\u001b[0;34m\u001b[0m\u001b[0;34m\u001b[0m\u001b[0;34m\u001b[0m\u001b[0m\n\u001b[1;32m     38\u001b[0m \u001b[0mlista\u001b[0m\u001b[0;34m=\u001b[0m\u001b[0;34m[\u001b[0m\u001b[0;34m]\u001b[0m\u001b[0;34m\u001b[0m\u001b[0;34m\u001b[0m\u001b[0m\n\u001b[0;32m---> 39\u001b[0;31m \u001b[0mmatrix_of_fibonacci\u001b[0m\u001b[0;34m(\u001b[0m\u001b[0;34m)\u001b[0m\u001b[0;34m\u001b[0m\u001b[0;34m\u001b[0m\u001b[0m\n\u001b[0m\u001b[1;32m     40\u001b[0m \u001b[0mlista\u001b[0m\u001b[0;34m.\u001b[0m\u001b[0mappend\u001b[0m\u001b[0;34m(\u001b[0m\u001b[0mfibonacci_formula\u001b[0m\u001b[0;34m(\u001b[0m\u001b[0;36m100\u001b[0m\u001b[0;34m)\u001b[0m\u001b[0;34m)\u001b[0m\u001b[0;34m\u001b[0m\u001b[0;34m\u001b[0m\u001b[0m\n\u001b[1;32m     41\u001b[0m \u001b[0mfibos\u001b[0m\u001b[0;34m=\u001b[0m\u001b[0;34m[\u001b[0m\u001b[0;34m]\u001b[0m\u001b[0;34m\u001b[0m\u001b[0;34m\u001b[0m\u001b[0m\n",
            "\u001b[0;32m<ipython-input-7-b6bc6f1cc219>\u001b[0m in \u001b[0;36mmatrix_of_fibonacci\u001b[0;34m()\u001b[0m\n\u001b[1;32m     22\u001b[0m     \u001b[0mfib\u001b[0m \u001b[0;34m=\u001b[0m \u001b[0;34m[\u001b[0m\u001b[0mfibonacci_formula\u001b[0m\u001b[0;34m(\u001b[0m\u001b[0mi\u001b[0m\u001b[0;34m)\u001b[0m \u001b[0;32mfor\u001b[0m \u001b[0mi\u001b[0m \u001b[0;32min\u001b[0m \u001b[0mrange\u001b[0m\u001b[0;34m(\u001b[0m\u001b[0;36m100\u001b[0m\u001b[0;34m)\u001b[0m\u001b[0;34m]\u001b[0m\u001b[0;34m\u001b[0m\u001b[0;34m\u001b[0m\u001b[0m\n\u001b[1;32m     23\u001b[0m \u001b[0;34m\u001b[0m\u001b[0m\n\u001b[0;32m---> 24\u001b[0;31m     \u001b[0mmatrix\u001b[0m \u001b[0;34m=\u001b[0m \u001b[0mgenerate_matrix\u001b[0m\u001b[0;34m(\u001b[0m\u001b[0;36m10\u001b[0m\u001b[0;34m)\u001b[0m\u001b[0;34m\u001b[0m\u001b[0;34m\u001b[0m\u001b[0m\n\u001b[0m\u001b[1;32m     25\u001b[0m \u001b[0;34m\u001b[0m\u001b[0m\n\u001b[1;32m     26\u001b[0m     \u001b[0mprint\u001b[0m\u001b[0;34m(\u001b[0m\u001b[0;34mf\"Serie de Fibonacci: {fib}\"\u001b[0m\u001b[0;34m)\u001b[0m\u001b[0;34m\u001b[0m\u001b[0;34m\u001b[0m\u001b[0m\n",
            "\u001b[0;31mNameError\u001b[0m: name 'generate_matrix' is not defined"
          ]
        }
      ]
    },
    {
      "cell_type": "code",
      "source": [
        "def generate_matrix(n, is_blank=False, max_number=10) -> list:\n",
        "    \"\"\"\n",
        "        Pregenerar una matriz de tamaño nxn\n",
        "        n = Tamaño de la matriz\n",
        "        is_blank = Si la matriz se genera con números aleatorios o en blanco (strings vacios)\n",
        "        max_number = número máximo que va a generar * 100\n",
        "    \"\"\"\n",
        "    if is_blank:\n",
        "        matrix = [[\"\" for i in range(n)] for j in range(n)]\n",
        "    else:\n",
        "        matrix = [[random_int(1, max_number*100)\n",
        "                   for i in range(n)] for j in range(n)]\n",
        "    return matrix"
      ],
      "metadata": {
        "id": "iaMiv8wBEKoW"
      },
      "execution_count": null,
      "outputs": []
    },
    {
      "cell_type": "code",
      "source": [
        "def matrix_to_list(matrix) -> list:\n",
        "    \"\"\"\n",
        "        Convertir una matriz en una lista única de elementos\n",
        "        matrix = lista de listas\n",
        "    \"\"\"\n",
        "    matrix_to_list = []\n",
        "\n",
        "    for i in matrix:\n",
        "        for j in i:\n",
        "            matrix_to_list.append(j)\n",
        "\n",
        "    return matrix_to_list"
      ],
      "metadata": {
        "id": "OPmkwOs5ZDdS"
      },
      "execution_count": null,
      "outputs": []
    }
  ]
}