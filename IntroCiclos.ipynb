{
  "nbformat": 4,
  "nbformat_minor": 0,
  "metadata": {
    "colab": {
      "name": "IntroCiclos.ipynb",
      "provenance": [],
      "authorship_tag": "ABX9TyP2yHhZYz1+m3XRBleSsXHM",
      "include_colab_link": true
    },
    "kernelspec": {
      "name": "python3",
      "display_name": "Python 3"
    },
    "language_info": {
      "name": "python"
    }
  },
  "cells": [
    {
      "cell_type": "markdown",
      "metadata": {
        "id": "view-in-github",
        "colab_type": "text"
      },
      "source": [
        "<a href=\"https://colab.research.google.com/github/elmaestrotic/exercices/blob/master/IntroCiclos.ipynb\" target=\"_parent\"><img src=\"https://colab.research.google.com/assets/colab-badge.svg\" alt=\"Open In Colab\"/></a>"
      ]
    },
    {
      "cell_type": "markdown",
      "source": [
        "**INTRODUCCIÓN A LOS CICLOS**\n",
        "\n",
        "A continuación veremos cómo funciona el ciclo Mientras o While:"
      ],
      "metadata": {
        "id": "a49Z-AAlbs1I"
      }
    },
    {
      "cell_type": "code",
      "source": [
        "\n",
        "lista=[]\n",
        "i=1\n",
        "while i <=10:\n",
        "  lista.append(i)\n",
        "  i=i+1\n",
        "print(lista)"
      ],
      "metadata": {
        "colab": {
          "base_uri": "https://localhost:8080/"
        },
        "id": "fc88p0pZcFUk",
        "outputId": "175d89e7-a79d-4563-b902-996be91206b7"
      },
      "execution_count": 4,
      "outputs": [
        {
          "output_type": "stream",
          "name": "stdout",
          "text": [
            "[1, 2, 3, 4, 5, 6, 7, 8, 9, 10]\n"
          ]
        }
      ]
    },
    {
      "cell_type": "markdown",
      "source": [
        "A continuación movemos el primer número de la lista a la cola:"
      ],
      "metadata": {
        "id": "PRTfXIOOpF1u"
      }
    },
    {
      "cell_type": "code",
      "source": [
        "lista= [1, 2, 3, 4, 5, 6, 7, 8, 9, 10]\n",
        "i=0\n",
        "for i in range(0,1):\n",
        "  lista.insert(-1, lista.pop(0))\n",
        "print(lista)"
      ],
      "metadata": {
        "colab": {
          "base_uri": "https://localhost:8080/"
        },
        "id": "IT_9sX8UpLN8",
        "outputId": "aab39d53-b58e-48a5-e584-3367f9143881"
      },
      "execution_count": 21,
      "outputs": [
        {
          "output_type": "stream",
          "name": "stdout",
          "text": [
            "[2, 3, 4, 5, 6, 7, 8, 9, 1, 10]\n"
          ]
        }
      ]
    },
    {
      "cell_type": "markdown",
      "source": [
        "A continuación movemos el siguiente número de la lista a la cola:"
      ],
      "metadata": {
        "id": "rswS8JYBtdyw"
      }
    },
    {
      "cell_type": "markdown",
      "source": [
        "Ejercicio 2\n",
        "Generamos una matriz aleatoria\n"
      ],
      "metadata": {
        "id": "cOlrOC01MivG"
      }
    },
    {
      "cell_type": "code",
      "source": [
        "from random import *\n",
        "filas=10\n",
        "columnas=10\n",
        "\n",
        "matriz=[[randint(10,100) for i in range(filas)] for j in  range(columnas)]\n",
        "#Ahora vamos a recorrer la matriz y buscar los elementos mayor y menor\n",
        "\n",
        "posmayor=''\n",
        "posmenor=''\n",
        "mayor = matriz[0][0]\n",
        "for f in range(filas):\n",
        "  for c in range(columnas):\n",
        "    print(matriz[f][c], end='|')\n",
        "    if matriz[f][c] > mayor:\n",
        "      mayor= matriz[f][c]\n",
        "      posmayor=str([f]+[c])\n",
        "  print()#partimos la salida para que se vea como fila\n",
        "\n",
        "print()\n",
        "print('El mayor es',mayor,\"en la posición: \",posmayor)\n",
        "\n"
      ],
      "metadata": {
        "colab": {
          "base_uri": "https://localhost:8080/"
        },
        "id": "IXlP-GKLMs_Q",
        "outputId": "e1217772-5eb9-4e28-ae82-3a8ae86c7f1b"
      },
      "execution_count": 44,
      "outputs": [
        {
          "output_type": "stream",
          "name": "stdout",
          "text": [
            "57|43|18|40|81|38|14|36|16|100|\n",
            "63|31|12|21|39|32|25|13|75|44|\n",
            "76|29|71|25|59|23|18|58|22|23|\n",
            "88|77|11|93|92|69|45|27|72|20|\n",
            "98|96|32|26|100|37|87|90|60|36|\n",
            "48|52|82|31|70|49|93|23|92|26|\n",
            "26|88|89|97|93|96|90|49|35|84|\n",
            "31|81|71|95|84|28|73|60|35|17|\n",
            "33|79|40|73|85|15|78|58|87|77|\n",
            "13|45|39|51|89|82|85|67|40|100|\n",
            "\n",
            "El mayor es 100 en la posición:  [0, 9]\n"
          ]
        }
      ]
    },
    {
      "cell_type": "markdown",
      "source": [
        "Ahora vamos a recorre la matriz y buscar los elementos mayor y menor"
      ],
      "metadata": {
        "id": "LzcCykU1NLQX"
      }
    }
  ]
}