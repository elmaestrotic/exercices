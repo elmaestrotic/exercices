{
  "nbformat": 4,
  "nbformat_minor": 0,
  "metadata": {
    "colab": {
      "name": "IntroCiclos.ipynb",
      "provenance": [],
      "include_colab_link": true
    },
    "kernelspec": {
      "name": "python3",
      "display_name": "Python 3"
    },
    "language_info": {
      "name": "python"
    }
  },
  "cells": [
    {
      "cell_type": "markdown",
      "metadata": {
        "id": "view-in-github",
        "colab_type": "text"
      },
      "source": [
        "<a href=\"https://colab.research.google.com/github/elmaestrotic/exercices/blob/master/IntroCiclos.ipynb\" target=\"_parent\"><img src=\"https://colab.research.google.com/assets/colab-badge.svg\" alt=\"Open In Colab\"/></a>"
      ]
    },
    {
      "cell_type": "markdown",
      "source": [
        "**INTRODUCCIÓN A LOS CICLOS**\n",
        "\n",
        "A continuación veremos cómo funciona el ciclo Mientras o While:"
      ],
      "metadata": {
        "id": "a49Z-AAlbs1I"
      }
    },
    {
      "cell_type": "code",
      "source": [
        "\n",
        "lista=[]\n",
        "i=1\n",
        "while i <=10:\n",
        "  lista.append(i)\n",
        "  i=i+1\n",
        "print(lista)"
      ],
      "metadata": {
        "colab": {
          "base_uri": "https://localhost:8080/"
        },
        "id": "fc88p0pZcFUk",
        "outputId": "175d89e7-a79d-4563-b902-996be91206b7"
      },
      "execution_count": null,
      "outputs": [
        {
          "output_type": "stream",
          "name": "stdout",
          "text": [
            "[1, 2, 3, 4, 5, 6, 7, 8, 9, 10]\n"
          ]
        }
      ]
    },
    {
      "cell_type": "markdown",
      "source": [
        "A continuación movemos el primer número de la lista a la cola:"
      ],
      "metadata": {
        "id": "PRTfXIOOpF1u"
      }
    },
    {
      "cell_type": "code",
      "source": [
        "lista= [1, 2, 3, 4, 5, 6, 7, 8, 9, 10]\n",
        "i=0\n",
        "for i in range(0,1):\n",
        "  lista.insert(-1, lista.pop(0))\n",
        "print(lista)"
      ],
      "metadata": {
        "colab": {
          "base_uri": "https://localhost:8080/"
        },
        "id": "IT_9sX8UpLN8",
        "outputId": "aab39d53-b58e-48a5-e584-3367f9143881"
      },
      "execution_count": null,
      "outputs": [
        {
          "output_type": "stream",
          "name": "stdout",
          "text": [
            "[2, 3, 4, 5, 6, 7, 8, 9, 1, 10]\n"
          ]
        }
      ]
    },
    {
      "cell_type": "markdown",
      "source": [
        "A continuación movemos el siguiente número de la lista a la cola:"
      ],
      "metadata": {
        "id": "rswS8JYBtdyw"
      }
    },
    {
      "cell_type": "markdown",
      "source": [
        "Ejercicio 2\n",
        "Generamos una matriz aleatoria\n"
      ],
      "metadata": {
        "id": "cOlrOC01MivG"
      }
    },
    {
      "cell_type": "code",
      "source": [
        "from random import *\n",
        "filas=10\n",
        "columnas=10\n",
        "\n",
        "matriz=[[randint(10,100) for i in range(filas)] for j in  range(columnas)]\n",
        "#Ahora vamos a recorrer la matriz y buscar los elementos mayor y menor\n",
        "\n",
        "posmayor=''\n",
        "posmenor=''\n",
        "mayor = matriz[0][0]\n",
        "menor = matriz[0][0]\n",
        "for f in range(filas):\n",
        "  for c in range(columnas):\n",
        "    print(matriz[f][c], end='|')\n",
        "    if matriz[f][c] > mayor:\n",
        "       mayor= matriz[f][c]\n",
        "       posmayor=str([f]+[c])\n",
        "\n",
        "    if matriz[f][c] < menor:\n",
        "       menor= matriz[f][c]\n",
        "       posmenor=str([f]+[c])\n",
        "  print()#partimos la salida para que se vea como fila\n",
        "\n",
        "print()\n",
        "print('El mayor es',mayor,\"en la posición: \",posmayor)\n",
        "print('El menor es',menor,\"en la posición: \",posmenor)\n",
        "\n"
      ],
      "metadata": {
        "colab": {
          "base_uri": "https://localhost:8080/"
        },
        "id": "IXlP-GKLMs_Q",
        "outputId": "928c6622-7cb9-4038-b024-dc81ff9ac716"
      },
      "execution_count": null,
      "outputs": [
        {
          "output_type": "stream",
          "name": "stdout",
          "text": [
            "93|70|71|53|72|92|24|95|76|66|\n",
            "46|86|10|87|51|68|39|31|13|85|\n",
            "71|32|39|49|98|84|35|49|88|42|\n",
            "28|18|40|14|30|70|58|53|86|42|\n",
            "50|41|80|35|66|19|48|60|38|77|\n",
            "56|20|60|42|52|34|32|81|54|88|\n",
            "17|94|100|37|43|91|86|20|90|92|\n",
            "93|27|26|91|22|26|87|47|71|68|\n",
            "81|10|37|92|70|89|67|22|65|67|\n",
            "58|11|87|51|44|40|77|41|13|47|\n",
            "\n",
            "El mayor es 100 en la posición:  [6, 2]\n",
            "El menor es 10 en la posición:  [1, 2]\n"
          ]
        }
      ]
    },
    {
      "cell_type": "markdown",
      "source": [
        "Ahora vamos a hallar la sumatoria de cada columna:"
      ],
      "metadata": {
        "id": "LzcCykU1NLQX"
      }
    },
    {
      "cell_type": "code",
      "source": [
        "from random import *\n",
        "filas=10\n",
        "columnas=10\n",
        "\n",
        "matriz=[[randint(10,99) for i in range(filas)] for j in  range(columnas)]\n",
        "\n",
        "#mostramos la matriz generada\n",
        "for c in range(columnas):\n",
        "  for f in range(filas):\n",
        "    print(matriz[f][c], end='|')\n",
        "    \n",
        "  print()#partimos la salida para que se vea como fila\n",
        "\n",
        "print()\n",
        "\n",
        "suma=0\n",
        "#ahora sumamos los valores de cada columna\n",
        "for f in range(columnas):\n",
        "  for c in range(len(matriz)):\n",
        "    suma+=matriz[f][c]#vamos sumando cada celda de la columna actual\n",
        "  print('La suma de la columna',f,'es: ',suma)\n",
        "  suma=0\n",
        "  print()#partimos la salida para que se vea como fila\n",
        "\n"
      ],
      "metadata": {
        "id": "TdrdPie5nDU9",
        "outputId": "8f6fa8c5-a27a-43f4-bad4-98754a5f00a0",
        "colab": {
          "base_uri": "https://localhost:8080/"
        }
      },
      "execution_count": null,
      "outputs": [
        {
          "output_type": "stream",
          "name": "stdout",
          "text": [
            "88|18|40|84|44|80|19|67|45|96|\n",
            "65|29|31|78|56|27|72|94|10|53|\n",
            "69|14|86|34|34|74|95|71|64|46|\n",
            "63|69|32|92|18|29|76|13|94|72|\n",
            "54|78|45|25|16|13|44|57|14|33|\n",
            "61|60|92|36|50|69|25|19|99|22|\n",
            "23|84|63|51|55|34|53|65|74|70|\n",
            "79|28|27|54|29|40|93|69|46|91|\n",
            "37|84|37|21|36|94|48|63|51|64|\n",
            "12|92|43|84|43|84|35|29|49|59|\n",
            "\n",
            "La suma de la columna 0 es:  551\n",
            "\n",
            "La suma de la columna 1 es:  556\n",
            "\n",
            "La suma de la columna 2 es:  496\n",
            "\n",
            "La suma de la columna 3 es:  559\n",
            "\n",
            "La suma de la columna 4 es:  381\n",
            "\n",
            "La suma de la columna 5 es:  544\n",
            "\n",
            "La suma de la columna 6 es:  560\n",
            "\n",
            "La suma de la columna 7 es:  547\n",
            "\n",
            "La suma de la columna 8 es:  546\n",
            "\n",
            "La suma de la columna 9 es:  606\n",
            "\n"
          ]
        }
      ]
    }
  ]
}